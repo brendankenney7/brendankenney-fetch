{
 "cells": [
  {
   "cell_type": "code",
   "execution_count": null,
   "metadata": {},
   "outputs": [],
   "source": [
    "# This notebook takes the receipts.json file, extracts the 'rewardsReceiptItemList' object, adds receiptId (_Id from receipt.json) and flattens."
   ]
  },
  {
   "cell_type": "code",
   "execution_count": 2,
   "metadata": {},
   "outputs": [],
   "source": [
    "import pandas as pd\n",
    "import json"
   ]
  },
  {
   "cell_type": "code",
   "execution_count": 3,
   "metadata": {},
   "outputs": [],
   "source": [
    "receipts = pd.read_json('D:\\\\Projects\\\\VS Code\\\\Fetch Take Home\\\\receipts.json', lines=True)"
   ]
  },
  {
   "cell_type": "code",
   "execution_count": 4,
   "metadata": {},
   "outputs": [
    {
     "name": "stdout",
     "output_type": "stream",
     "text": [
      "Index(['barcode', 'description', 'finalPrice', 'itemPrice', 'needsFetchReview',\n",
      "       'partnerItemId', 'preventTargetGapPoints', 'quantityPurchased',\n",
      "       'userFlaggedBarcode', 'userFlaggedNewItem', 'userFlaggedPrice',\n",
      "       'userFlaggedQuantity', 'needsFetchReviewReason',\n",
      "       'pointsNotAwardedReason', 'pointsPayerId', 'rewardsGroup',\n",
      "       'rewardsProductPartnerId', 'userFlaggedDescription',\n",
      "       'originalMetaBriteBarcode', 'originalMetaBriteDescription', 'brandCode',\n",
      "       'competitorRewardsGroup', 'discountedItemPrice',\n",
      "       'originalReceiptItemText', 'itemNumber',\n",
      "       'originalMetaBriteQuantityPurchased', 'pointsEarned', 'targetPrice',\n",
      "       'competitiveProduct', 'originalFinalPrice',\n",
      "       'originalMetaBriteItemPrice', 'deleted', 'priceAfterCoupon',\n",
      "       'metabriteCampaignId'],\n",
      "      dtype='object')\n"
     ]
    }
   ],
   "source": [
    "exploded_df = receipts.explode('rewardsReceiptItemList')\n",
    "nested_df = pd.json_normalize(exploded_df['rewardsReceiptItemList'])\n",
    "print(nested_df.columns)"
   ]
  },
  {
   "cell_type": "code",
   "execution_count": 5,
   "metadata": {},
   "outputs": [
    {
     "data": {
      "text/plain": [
       "[{'barcode': '046000832517',\n",
       "  'brandCode': 'BRAND',\n",
       "  'description': 'Old El Paso Mild Chopped Green Chiles, 4.5 Oz',\n",
       "  'finalPrice': '10.00',\n",
       "  'itemPrice': '10.00',\n",
       "  'partnerItemId': '0',\n",
       "  'pointsNotAwardedReason': 'Action not allowed for user and CPG',\n",
       "  'pointsPayerId': '5332f5f3e4b03c9a25efd0ae',\n",
       "  'quantityPurchased': 1,\n",
       "  'rewardsGroup': 'OLD EL PASO BEANS & PEPPERS',\n",
       "  'rewardsProductPartnerId': '5332f5f3e4b03c9a25efd0ae'}]"
      ]
     },
     "execution_count": 5,
     "metadata": {},
     "output_type": "execute_result"
    }
   ],
   "source": [
    "filtered_df = receipts.iloc[7]\n",
    "example = filtered_df['rewardsReceiptItemList']\n",
    "example"
   ]
  },
  {
   "cell_type": "code",
   "execution_count": 6,
   "metadata": {},
   "outputs": [],
   "source": [
    "# Read the JSON file\n",
    "with open('D:\\\\Projects\\\\VS Code\\\\Fetch Take Home\\\\receipts.json', 'r') as file:\n",
    "    data = file.readlines()\n",
    "\n",
    "# Parse each line of JSON and process\n",
    "parsed_data = []\n",
    "for line in data:\n",
    "    json_obj = json.loads(line.strip())  # Remove whitespace and newline characters\n",
    "    rewards_items = json_obj.get('rewardsReceiptItemList', [])\n",
    "    for item in rewards_items:\n",
    "        item['receiptId'] = json_obj['_id']['$oid']\n",
    "        parsed_data.append(item)\n",
    "\n",
    "# Save the parsed data to a new JSON file\n",
    "with open('receipt_detail.json', 'w') as outfile:\n",
    "    json.dump(parsed_data, outfile, indent=4)"
   ]
  }
 ],
 "metadata": {
  "kernelspec": {
   "display_name": ".venv",
   "language": "python",
   "name": "python3"
  },
  "language_info": {
   "codemirror_mode": {
    "name": "ipython",
    "version": 3
   },
   "file_extension": ".py",
   "mimetype": "text/x-python",
   "name": "python",
   "nbconvert_exporter": "python",
   "pygments_lexer": "ipython3",
   "version": "3.11.5"
  }
 },
 "nbformat": 4,
 "nbformat_minor": 2
}
